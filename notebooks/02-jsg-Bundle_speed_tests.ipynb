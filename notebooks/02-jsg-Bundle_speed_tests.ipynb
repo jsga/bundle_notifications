{
 "cells": [
  {
   "cell_type": "code",
   "execution_count": 1,
   "metadata": {},
   "outputs": [],
   "source": [
    "%load_ext autoreload\n",
    "%autoreload 2\n",
    "%load_ext line_profiler"
   ]
  },
  {
   "cell_type": "code",
   "execution_count": 2,
   "metadata": {},
   "outputs": [],
   "source": [
    "import sys\n",
    "import os\n",
    "if os.path.basename(os.getcwd()) == \"notebooks\":\n",
    "    os.chdir('..')\n",
    "\n",
    "from tqdm.notebook import trange, tqdm\n",
    "    \n",
    "import numpy as np\n",
    "from numba import jit\n",
    "import pandas as pd\n",
    "pd.set_option('display.max_rows', 100)\n",
    "\n",
    "import plotly.graph_objects as go\n",
    "from plotly.subplots import make_subplots\n",
    "\n",
    "from bundle_notifications.bundle_notifications import load_data,create_message\n",
    "from bundle_notifications.optimal_delay import delay, local_search\n",
    "\n"
   ]
  },
  {
   "cell_type": "markdown",
   "metadata": {},
   "source": [
    "# 1. Load data\n",
    "\n",
    "We first load the whole dataset and then get a sample of it in order to do some speed tests"
   ]
  },
  {
   "cell_type": "code",
   "execution_count": 3,
   "metadata": {},
   "outputs": [
    {
     "name": "stdout",
     "output_type": "stream",
     "text": [
      "<class 'pandas.core.frame.DataFrame'>\n",
      "RangeIndex: 15000 entries, 0 to 14999\n",
      "Data columns (total 6 columns):\n",
      " #   Column        Non-Null Count  Dtype         \n",
      "---  ------        --------------  -----         \n",
      " 0   timestamp     15000 non-null  datetime64[ns]\n",
      " 1   user_id       15000 non-null  object        \n",
      " 2   friend_id     15000 non-null  object        \n",
      " 3   friend_name   15000 non-null  object        \n",
      " 4   timestamp_ns  15000 non-null  int64         \n",
      " 5   dayofyear     15000 non-null  int64         \n",
      "dtypes: datetime64[ns](1), int64(2), object(3)\n",
      "memory usage: 703.2+ KB\n"
     ]
    }
   ],
   "source": [
    "url = 'https://static-eu-komoot.s3.amazonaws.com/backend/challenge/notifications.csv'\n",
    "df = load_data(url, nrows=15000)\n",
    "\n",
    "df['timestamp_ns'] = df.timestamp.copy().astype(\"int\")\n",
    "df['dayofyear'] = df.timestamp.copy().dt.dayofyear\n",
    "    \n",
    "df.info()"
   ]
  },
  {
   "cell_type": "code",
   "execution_count": 4,
   "metadata": {},
   "outputs": [
    {
     "data": {
      "text/html": [
       "<div>\n",
       "<style scoped>\n",
       "    .dataframe tbody tr th:only-of-type {\n",
       "        vertical-align: middle;\n",
       "    }\n",
       "\n",
       "    .dataframe tbody tr th {\n",
       "        vertical-align: top;\n",
       "    }\n",
       "\n",
       "    .dataframe thead th {\n",
       "        text-align: right;\n",
       "    }\n",
       "</style>\n",
       "<table border=\"1\" class=\"dataframe\">\n",
       "  <thead>\n",
       "    <tr style=\"text-align: right;\">\n",
       "      <th></th>\n",
       "      <th>timestamp</th>\n",
       "      <th>user_id</th>\n",
       "      <th>friend_id</th>\n",
       "      <th>friend_name</th>\n",
       "      <th>timestamp_ns</th>\n",
       "      <th>dayofyear</th>\n",
       "    </tr>\n",
       "  </thead>\n",
       "  <tbody>\n",
       "    <tr>\n",
       "      <th>3</th>\n",
       "      <td>2017-08-01 01:20:47</td>\n",
       "      <td>CFFEC5978B0A4A05FA6DCEFB2C82CC</td>\n",
       "      <td>2BB0471CAA78ED0FCEE143E175F034</td>\n",
       "      <td>Mona</td>\n",
       "      <td>1501550447000000000</td>\n",
       "      <td>213</td>\n",
       "    </tr>\n",
       "    <tr>\n",
       "      <th>25</th>\n",
       "      <td>2017-08-01 02:28:27</td>\n",
       "      <td>CFFEC5978B0A4A05FA6DCEFB2C82CC</td>\n",
       "      <td>2BB0471CAA78ED0FCEE143E175F034</td>\n",
       "      <td>Mona</td>\n",
       "      <td>1501554507000000000</td>\n",
       "      <td>213</td>\n",
       "    </tr>\n",
       "    <tr>\n",
       "      <th>29</th>\n",
       "      <td>2017-08-01 03:00:42</td>\n",
       "      <td>CFFEC5978B0A4A05FA6DCEFB2C82CC</td>\n",
       "      <td>74C09338D7CA031859AE26A1586692</td>\n",
       "      <td>Toomas</td>\n",
       "      <td>1501556442000000000</td>\n",
       "      <td>213</td>\n",
       "    </tr>\n",
       "    <tr>\n",
       "      <th>39</th>\n",
       "      <td>2017-08-01 03:51:05</td>\n",
       "      <td>CFFEC5978B0A4A05FA6DCEFB2C82CC</td>\n",
       "      <td>F039A0F7A3245F7B2D7BD0942F3680</td>\n",
       "      <td>Sean</td>\n",
       "      <td>1501559465000000000</td>\n",
       "      <td>213</td>\n",
       "    </tr>\n",
       "    <tr>\n",
       "      <th>99</th>\n",
       "      <td>2017-08-01 05:03:44</td>\n",
       "      <td>CFFEC5978B0A4A05FA6DCEFB2C82CC</td>\n",
       "      <td>DF6A386FE701217C2A12292DB8D142</td>\n",
       "      <td>Buse</td>\n",
       "      <td>1501563824000000000</td>\n",
       "      <td>213</td>\n",
       "    </tr>\n",
       "  </tbody>\n",
       "</table>\n",
       "</div>"
      ],
      "text/plain": [
       "             timestamp                         user_id  \\\n",
       "3  2017-08-01 01:20:47  CFFEC5978B0A4A05FA6DCEFB2C82CC   \n",
       "25 2017-08-01 02:28:27  CFFEC5978B0A4A05FA6DCEFB2C82CC   \n",
       "29 2017-08-01 03:00:42  CFFEC5978B0A4A05FA6DCEFB2C82CC   \n",
       "39 2017-08-01 03:51:05  CFFEC5978B0A4A05FA6DCEFB2C82CC   \n",
       "99 2017-08-01 05:03:44  CFFEC5978B0A4A05FA6DCEFB2C82CC   \n",
       "\n",
       "                         friend_id friend_name         timestamp_ns  dayofyear  \n",
       "3   2BB0471CAA78ED0FCEE143E175F034        Mona  1501550447000000000        213  \n",
       "25  2BB0471CAA78ED0FCEE143E175F034        Mona  1501554507000000000        213  \n",
       "29  74C09338D7CA031859AE26A1586692      Toomas  1501556442000000000        213  \n",
       "39  F039A0F7A3245F7B2D7BD0942F3680        Sean  1501559465000000000        213  \n",
       "99  DF6A386FE701217C2A12292DB8D142        Buse  1501563824000000000        213  "
      ]
     },
     "execution_count": 4,
     "metadata": {},
     "output_type": "execute_result"
    }
   ],
   "source": [
    "# Sample for an ID\n",
    "df_g = df.loc[(df.user_id == 'CFFEC5978B0A4A05FA6DCEFB2C82CC') & (df.dayofyear == 213),].copy()#.head(20)\n",
    "df_g.head()"
   ]
  },
  {
   "cell_type": "markdown",
   "metadata": {},
   "source": [
    "## Speed tests: __add_notif_counter()__\n"
   ]
  },
  {
   "cell_type": "code",
   "execution_count": 5,
   "metadata": {},
   "outputs": [],
   "source": [
    "def notif_counter_pandas(df_g,x):\n",
    "    df_g['notification_bool'] = False\n",
    "    df_g['notification_bool'].iloc[x] = True\n",
    "\n",
    "    # Now do a cumsum counter\n",
    "    df_g['notification_counter'] = df_g.notification_bool.cumsum().shift()+1\n",
    "    df_g['notification_counter'].iloc[0] = 1\n",
    "    return df_g.notification_counter\n",
    "\n",
    "@jit\n",
    "def add_notif_counter_j(x,notification_counter):\n",
    "    \"\"\" Equivalent to add_notif_counter but compilting it with jit\n",
    "    \"\"\"\n",
    "    \n",
    "    notification_counter[:x[0]+1] = 1\n",
    "    notification_counter[x[0]+1:x[1]+1] = 2\n",
    "    notification_counter[x[1]+1:x[2]+1] = 3\n",
    "    notification_counter[(x[2]+1):] = 4\n",
    "    \n",
    "    return notification_counter\n",
    "\n",
    "\n",
    "def add_notif_counter(x):\n",
    "    \"\"\" \n",
    "    \n",
    "    Equivalent function to:\n",
    "    \n",
    "    df_g['notification_bool'] = False\n",
    "    df_g.notification_bool.iloc[x] = True\n",
    "\n",
    "    # Now do a cumsum counter\n",
    "    df_g['notification_counter'] = df_g.notification_bool.cumsum().shift()+1\n",
    "    df_g.notification_counter.iloc[0] = 1\n",
    "    \"\"\"\n",
    "    notification_counter = np.zeros(x[-1]+1,dtype='int')\n",
    "    notification_counter[:x[0]+1] = 1\n",
    "    notification_counter[x[0]+1:x[1]+1] = 2\n",
    "    notification_counter[x[1]+1:x[2]+1] = 3\n",
    "    notification_counter[(x[2]+1):] = 4\n",
    "    \n",
    "    return notification_counter"
   ]
  },
  {
   "cell_type": "code",
   "execution_count": 7,
   "metadata": {},
   "outputs": [
    {
     "name": "stdout",
     "output_type": "stream",
     "text": [
      "Shape of test dataset: (58, 8)\n",
      "With @jit:\n",
      "CPU times: user 24 µs, sys: 1 µs, total: 25 µs\n",
      "Wall time: 26.9 µs\n",
      "Without @jit:\n",
      "CPU times: user 25 µs, sys: 1e+03 ns, total: 26 µs\n",
      "Wall time: 28.1 µs\n",
      "With pandas:\n",
      "CPU times: user 2.2 ms, sys: 449 µs, total: 2.65 ms\n",
      "Wall time: 2.35 ms\n"
     ]
    },
    {
     "data": {
      "text/plain": [
       "True"
      ]
     },
     "execution_count": 7,
     "metadata": {},
     "output_type": "execute_result"
    }
   ],
   "source": [
    "print(f\"Shape of test dataset: {df_g.shape}\")\n",
    "x = local_search(df_g.timestamp_ns.to_numpy())\n",
    "\n",
    "print('With @jit:')\n",
    "%time n1 = add_notif_counter_j(x,np.zeros(x[-1]+1,dtype='int')) \n",
    "\n",
    "print('Without @jit:')\n",
    "%time n2 = add_notif_counter(x)\n",
    "\n",
    "print('With pandas:')\n",
    "%time n3 = notif_counter_pandas(df_g,x)\n",
    "\n",
    "np.allclose(n1,n2.astype(\"int\") ) \n",
    "np.allclose(n2,n3.astype(\"int\") ) "
   ]
  },
  {
   "cell_type": "markdown",
   "metadata": {},
   "source": []
  },
  {
   "cell_type": "markdown",
   "metadata": {},
   "source": [
    "## Speed test: groupbyuy"
   ]
  },
  {
   "cell_type": "code",
   "execution_count": 8,
   "metadata": {},
   "outputs": [],
   "source": [
    "# prev code\n",
    "df_g = df.loc[(df.user_id == 'CFFEC5978B0A4A05FA6DCEFB2C82CC') & (df.dayofyear == 213),].copy()#.head(20)\n",
    "\n",
    "# Calculate when to send notification\n",
    "x = local_search(df_g.timestamp_ns.to_numpy())\n",
    "\n",
    "# Add notification counter\n",
    "df_g['notification_counter'] = add_notif_counter(x) \n"
   ]
  },
  {
   "cell_type": "code",
   "execution_count": 9,
   "metadata": {},
   "outputs": [
    {
     "name": "stdout",
     "output_type": "stream",
     "text": [
      "Speed with pandas:\n",
      "CPU times: user 3.84 ms, sys: 533 µs, total: 4.37 ms\n",
      "Wall time: 3.91 ms\n",
      "Speed with custom numpy:\n",
      "CPU times: user 78 µs, sys: 14 µs, total: 92 µs\n",
      "Wall time: 87 µs\n"
     ]
    },
    {
     "data": {
      "text/plain": [
       "True"
      ]
     },
     "execution_count": 9,
     "metadata": {},
     "output_type": "execute_result"
    }
   ],
   "source": [
    "print('Speed with pandas:')\n",
    "%time tours_pd =  df_g.groupby('notification_counter')['friend_id'].apply(lambda x: (1- x.duplicated()).cumsum())#.droplevel(0)\n",
    "\n",
    "from bundle_notifications.bundle_notifications import count_tours_per_notif\n",
    "\n",
    "# Inputs\n",
    "notification_counter = df_g.notification_counter.to_numpy('int')\n",
    "friend_id = df_g.friend_id.to_numpy()\n",
    "friend_name = df_g.friend_name.to_numpy()\n",
    "timestamp = df_g.timestamp.to_numpy()\n",
    "\n",
    "print('Speed with custom numpy:')\n",
    "%time tours_np,_,_,_ = count_tours_per_notif(notification_counter, friend_id,friend_name,timestamp)\n",
    "\n",
    "np.allclose(tours_pd.astype(\"int\"),tours_np ) "
   ]
  },
  {
   "cell_type": "markdown",
   "metadata": {},
   "source": [
    "A custom numpy functtion goes 35x faster! It is not even 100% comparable because inside _count_tours_per_notif_ we output some extra information."
   ]
  },
  {
   "cell_type": "markdown",
   "metadata": {},
   "source": [
    "## Speed analysis for *_bundle()_*"
   ]
  },
  {
   "cell_type": "code",
   "execution_count": 10,
   "metadata": {},
   "outputs": [
    {
     "name": "stdout",
     "output_type": "stream",
     "text": [
      "(2513, 6)\n",
      "\n",
      "*** Profile printout saved to text file 'notebooks/profile_bundle_func'. \n",
      "Timer unit: 1e-06 s\n",
      "\n",
      "Total time: 0.6141 s\n",
      "File: /Users/jsg/Documents/GitHub/bundle_notifications_ds/bundle_notifications/bundle_notifications.py\n",
      "Function: bundle_func at line 229\n",
      "\n",
      "Line #      Hits         Time  Per Hit   % Time  Line Contents\n",
      "==============================================================\n",
      "   229                                           def bundle_func(df_g):\n",
      "   230                                               \"\"\"Bundles notifications for a user_id\n",
      "   231                                           \n",
      "   232                                               This function is meant to be used after a pandas groupping (or manual filtering) of user_ids. \n",
      "   233                                           \n",
      "   234                                               Parameters\n",
      "   235                                               ----------\n",
      "   236                                               df_g : pd.DataFrame\n",
      "   237                                                   DataFrame containing 4 columns: ['timestamp', 'user_id', 'friend_id', 'friend_name']\n",
      "   238                                           \n",
      "   239                                               Returns\n",
      "   240                                               -------\n",
      "   241                                               pd.DataFrame\n",
      "   242                                                   \n",
      "   243                                               \n",
      "   244                                               \"\"\"\n",
      "   245                                           \n",
      "   246                                           \n",
      "   247                                               # Always send if less than 4 notifications per day\n",
      "   248       129        476.0      3.7      0.1      if df_g.shape[0] <= 4:\n",
      "   249                                           \n",
      "   250        38      30539.0    803.7      5.0          df_g['notification_bool'] = True\n",
      "   251        38      29977.0    788.9      4.9          df_g['tours'] = 1        \n",
      "   252        38      30125.0    792.8      4.9          df_g['notification_counter'] = list(range(1,df_g.shape[0]+1)) # [1,2,3,4]\n",
      "   253        38      37670.0    991.3      6.1          df_g['message'] = create_message(df_g.tours, df_g.friend_name)\n",
      "   254        38      32158.0    846.3      5.2          df_g['timestamp_first_tour'] = df_g.timestamp\n",
      "   255                                           \n",
      "   256                                               else:\n",
      "   257                                                   \n",
      "   258                                                   # Calculate best times to send notification\n",
      "   259        91      13460.0    147.9      2.2          x = local_search(df_g.timestamp_ns.to_numpy())\n",
      "   260                                           \n",
      "   261                                                   # Add up an indicator whether the notification is sent at those times\n",
      "   262        91      68933.0    757.5     11.2          df_g['notification_counter'] = add_notif_counter(x) \n",
      "   263                                           \n",
      "   264                                                   # Group by counter and add\n",
      "   265                                                   # We also get the names and timestamp of the first element in the notif counter\n",
      "   266        90     112254.0   1247.3     18.3          df_g['tours'], name_first,timestamp_first_tour, message = count_tours_per_notif(df_g.notification_counter.to_numpy('int'),df_g.friend_id.to_numpy(),df_g.friend_name.to_numpy(),df_g.timestamp.to_numpy())\n",
      "   267                                                   \n",
      "   268                                                   # Filter: lets keep the rows with notifications\n",
      "   269        90     115138.0   1279.3     18.7          df_g = df_g.iloc[x,]\n",
      "   270                                                   \n",
      "   271                                                   # Add timestamp first tour\n",
      "   272        90      71801.0    797.8     11.7          df_g['timestamp_first_tour'] = timestamp_first_tour\n",
      "   273                                           \n",
      "   274                                                   # Cutomize message.\n",
      "   275        90      71427.0    793.6     11.6          df_g['message'] = message\n",
      "   276                                           \n",
      "   277                                                   \n",
      "   278       128        142.0      1.1      0.0      return df_g\n"
     ]
    }
   ],
   "source": [
    "from bundle_notifications.bundle_notifications import bundle_func, bundle\n",
    "\n",
    "# Use a subset of the dataset\n",
    "users = df.user_id.unique()[:50]\n",
    "df_subset = df.loc[ (df.user_id.isin(users)),].copy()\n",
    "print(df_subset.shape)\n",
    "\n",
    "%lprun -T notebooks/profile_bundle_func -f bundle_func bundle(df_subset)\n",
    "print(open('notebooks/profile_bundle_func', 'r').read())"
   ]
  },
  {
   "cell_type": "markdown",
   "metadata": {},
   "source": [
    "1. I am surprised that a simple filter of rows (`df_g = df_g.iloc[x,]`) takes as much time as a much more complex custom function `df_g['tours'], name_first,timestamp_first_tour, message = count_tours_per_notif(...)`\n",
    "2. Assigning a value to a new column `df_g['message'] = message` takes also quite some time.\n",
    "\n"
   ]
  },
  {
   "cell_type": "code",
   "execution_count": null,
   "metadata": {},
   "outputs": [],
   "source": []
  }
 ],
 "metadata": {
  "kernelspec": {
   "display_name": "Python 3",
   "language": "python",
   "name": "python3"
  },
  "language_info": {
   "codemirror_mode": {
    "name": "ipython",
    "version": 3
   },
   "file_extension": ".py",
   "mimetype": "text/x-python",
   "name": "python",
   "nbconvert_exporter": "python",
   "pygments_lexer": "ipython3",
   "version": "3.7.4"
  }
 },
 "nbformat": 4,
 "nbformat_minor": 4
}
